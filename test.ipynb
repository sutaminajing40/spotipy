{
 "cells": [
  {
   "cell_type": "code",
   "execution_count": 149,
   "metadata": {},
   "outputs": [],
   "source": [
    "import datetime\n",
    "dt_now = str(datetime.datetime.now().strftime('%Y/%m/%d %H:%M:%S'))"
   ]
  },
  {
   "cell_type": "code",
   "execution_count": 150,
   "metadata": {},
   "outputs": [
    {
     "data": {
      "text/plain": [
       "'2022/11/23 19:21:13'"
      ]
     },
     "execution_count": 150,
     "metadata": {},
     "output_type": "execute_result"
    }
   ],
   "source": [
    "dt_now"
   ]
  },
  {
   "cell_type": "code",
   "execution_count": 151,
   "metadata": {},
   "outputs": [],
   "source": [
    "from bs4 import BeautifulSoup\n",
    "import requests"
   ]
  },
  {
   "cell_type": "code",
   "execution_count": 152,
   "metadata": {},
   "outputs": [],
   "source": [
    "db_artists=[]\n",
    "URL = 'https://books.rakuten.co.jp/cd/artist/japanese-pop-music/#sa'\n",
    "res = requests.get(URL)\n",
    "soup = BeautifulSoup(res.text, 'html.parser')"
   ]
  },
  {
   "cell_type": "code",
   "execution_count": 153,
   "metadata": {},
   "outputs": [
    {
     "ename": "SelectorSyntaxError",
     "evalue": "Expected a selector at position 31\n  line 1:\n#main > table:nth-of-type(3) > \n                               ^",
     "output_type": "error",
     "traceback": [
      "\u001b[0;31m---------------------------------------------------------------------------\u001b[0m",
      "\u001b[0;31mSelectorSyntaxError\u001b[0m                       Traceback (most recent call last)",
      "Cell \u001b[0;32mIn [153], line 2\u001b[0m\n\u001b[1;32m      1\u001b[0m \u001b[39m#ado = soup.select('#main > table:nth-child(6)')\u001b[39;00m\n\u001b[0;32m----> 2\u001b[0m ado \u001b[39m=\u001b[39m soup\u001b[39m.\u001b[39;49mselect(\u001b[39m'\u001b[39;49m\u001b[39m#main > table:nth-of-type(3) > \u001b[39;49m\u001b[39m'\u001b[39;49m)\n\u001b[1;32m      3\u001b[0m ado\n",
      "File \u001b[0;32m~/Documents/プログラミング/spotipy/.venv/lib/python3.9/site-packages/bs4/element.py:1973\u001b[0m, in \u001b[0;36mTag.select\u001b[0;34m(self, selector, namespaces, limit, **kwargs)\u001b[0m\n\u001b[1;32m   1968\u001b[0m \u001b[39mif\u001b[39;00m soupsieve \u001b[39mis\u001b[39;00m \u001b[39mNone\u001b[39;00m:\n\u001b[1;32m   1969\u001b[0m     \u001b[39mraise\u001b[39;00m \u001b[39mNotImplementedError\u001b[39;00m(\n\u001b[1;32m   1970\u001b[0m         \u001b[39m\"\u001b[39m\u001b[39mCannot execute CSS selectors because the soupsieve package is not installed.\u001b[39m\u001b[39m\"\u001b[39m\n\u001b[1;32m   1971\u001b[0m     )\n\u001b[0;32m-> 1973\u001b[0m results \u001b[39m=\u001b[39m soupsieve\u001b[39m.\u001b[39;49mselect(selector, \u001b[39mself\u001b[39;49m, namespaces, limit, \u001b[39m*\u001b[39;49m\u001b[39m*\u001b[39;49mkwargs)\n\u001b[1;32m   1975\u001b[0m \u001b[39m# We do this because it's more consistent and because\u001b[39;00m\n\u001b[1;32m   1976\u001b[0m \u001b[39m# ResultSet.__getattr__ has a helpful error message.\u001b[39;00m\n\u001b[1;32m   1977\u001b[0m \u001b[39mreturn\u001b[39;00m ResultSet(\u001b[39mNone\u001b[39;00m, results)\n",
      "File \u001b[0;32m~/Documents/プログラミング/spotipy/.venv/lib/python3.9/site-packages/soupsieve/__init__.py:144\u001b[0m, in \u001b[0;36mselect\u001b[0;34m(select, tag, namespaces, limit, flags, custom, **kwargs)\u001b[0m\n\u001b[1;32m    132\u001b[0m \u001b[39mdef\u001b[39;00m \u001b[39mselect\u001b[39m(\n\u001b[1;32m    133\u001b[0m     select: \u001b[39mstr\u001b[39m,\n\u001b[1;32m    134\u001b[0m     tag: \u001b[39m'\u001b[39m\u001b[39mbs4.Tag\u001b[39m\u001b[39m'\u001b[39m,\n\u001b[0;32m   (...)\u001b[0m\n\u001b[1;32m    140\u001b[0m     \u001b[39m*\u001b[39m\u001b[39m*\u001b[39mkwargs: Any\n\u001b[1;32m    141\u001b[0m ) \u001b[39m-\u001b[39m\u001b[39m>\u001b[39m List[\u001b[39m'\u001b[39m\u001b[39mbs4.Tag\u001b[39m\u001b[39m'\u001b[39m]:\n\u001b[1;32m    142\u001b[0m     \u001b[39m\"\"\"Select the specified tags.\"\"\"\u001b[39;00m\n\u001b[0;32m--> 144\u001b[0m     \u001b[39mreturn\u001b[39;00m \u001b[39mcompile\u001b[39;49m(select, namespaces, flags, \u001b[39m*\u001b[39;49m\u001b[39m*\u001b[39;49mkwargs)\u001b[39m.\u001b[39mselect(tag, limit)\n",
      "File \u001b[0;32m~/Documents/プログラミング/spotipy/.venv/lib/python3.9/site-packages/soupsieve/__init__.py:67\u001b[0m, in \u001b[0;36mcompile\u001b[0;34m(pattern, namespaces, flags, custom, **kwargs)\u001b[0m\n\u001b[1;32m     64\u001b[0m         \u001b[39mraise\u001b[39;00m \u001b[39mValueError\u001b[39;00m(\u001b[39m\"\u001b[39m\u001b[39mCannot process \u001b[39m\u001b[39m'\u001b[39m\u001b[39mcustom\u001b[39m\u001b[39m'\u001b[39m\u001b[39m argument on a compiled selector list\u001b[39m\u001b[39m\"\u001b[39m)\n\u001b[1;32m     65\u001b[0m     \u001b[39mreturn\u001b[39;00m pattern\n\u001b[0;32m---> 67\u001b[0m \u001b[39mreturn\u001b[39;00m cp\u001b[39m.\u001b[39;49m_cached_css_compile(pattern, ns, cs, flags)\n",
      "File \u001b[0;32m~/Documents/プログラミング/spotipy/.venv/lib/python3.9/site-packages/soupsieve/css_parser.py:218\u001b[0m, in \u001b[0;36m_cached_css_compile\u001b[0;34m(pattern, namespaces, custom, flags)\u001b[0m\n\u001b[1;32m    213\u001b[0m \u001b[39m\"\"\"Cached CSS compile.\"\"\"\u001b[39;00m\n\u001b[1;32m    215\u001b[0m custom_selectors \u001b[39m=\u001b[39m process_custom(custom)\n\u001b[1;32m    216\u001b[0m \u001b[39mreturn\u001b[39;00m cm\u001b[39m.\u001b[39mSoupSieve(\n\u001b[1;32m    217\u001b[0m     pattern,\n\u001b[0;32m--> 218\u001b[0m     CSSParser(\n\u001b[1;32m    219\u001b[0m         pattern,\n\u001b[1;32m    220\u001b[0m         custom\u001b[39m=\u001b[39;49mcustom_selectors,\n\u001b[1;32m    221\u001b[0m         flags\u001b[39m=\u001b[39;49mflags\n\u001b[1;32m    222\u001b[0m     )\u001b[39m.\u001b[39;49mprocess_selectors(),\n\u001b[1;32m    223\u001b[0m     namespaces,\n\u001b[1;32m    224\u001b[0m     custom,\n\u001b[1;32m    225\u001b[0m     flags\n\u001b[1;32m    226\u001b[0m )\n",
      "File \u001b[0;32m~/Documents/プログラミング/spotipy/.venv/lib/python3.9/site-packages/soupsieve/css_parser.py:1159\u001b[0m, in \u001b[0;36mCSSParser.process_selectors\u001b[0;34m(self, index, flags)\u001b[0m\n\u001b[1;32m   1156\u001b[0m \u001b[39mdef\u001b[39;00m \u001b[39mprocess_selectors\u001b[39m(\u001b[39mself\u001b[39m, index: \u001b[39mint\u001b[39m \u001b[39m=\u001b[39m \u001b[39m0\u001b[39m, flags: \u001b[39mint\u001b[39m \u001b[39m=\u001b[39m \u001b[39m0\u001b[39m) \u001b[39m-\u001b[39m\u001b[39m>\u001b[39m ct\u001b[39m.\u001b[39mSelectorList:\n\u001b[1;32m   1157\u001b[0m     \u001b[39m\"\"\"Process selectors.\"\"\"\u001b[39;00m\n\u001b[0;32m-> 1159\u001b[0m     \u001b[39mreturn\u001b[39;00m \u001b[39mself\u001b[39;49m\u001b[39m.\u001b[39;49mparse_selectors(\u001b[39mself\u001b[39;49m\u001b[39m.\u001b[39;49mselector_iter(\u001b[39mself\u001b[39;49m\u001b[39m.\u001b[39;49mpattern), index, flags)\n",
      "File \u001b[0;32m~/Documents/プログラミング/spotipy/.venv/lib/python3.9/site-packages/soupsieve/css_parser.py:1092\u001b[0m, in \u001b[0;36mCSSParser.parse_selectors\u001b[0;34m(self, iselector, index, flags)\u001b[0m\n\u001b[1;32m   1087\u001b[0m             has_selector \u001b[39m=\u001b[39m \u001b[39mTrue\u001b[39;00m\n\u001b[1;32m   1089\u001b[0m \u001b[39mif\u001b[39;00m \u001b[39mnot\u001b[39;00m has_selector:\n\u001b[1;32m   1090\u001b[0m     \u001b[39m# We will always need to finish a selector when `:has()` is used as it leads with combining.\u001b[39;00m\n\u001b[1;32m   1091\u001b[0m     \u001b[39m# May apply to others as well.\u001b[39;00m\n\u001b[0;32m-> 1092\u001b[0m     \u001b[39mraise\u001b[39;00m SelectorSyntaxError(\n\u001b[1;32m   1093\u001b[0m         \u001b[39m'\u001b[39m\u001b[39mExpected a selector at position \u001b[39m\u001b[39m{}\u001b[39;00m\u001b[39m'\u001b[39m\u001b[39m.\u001b[39mformat(index),\n\u001b[1;32m   1094\u001b[0m         \u001b[39mself\u001b[39m\u001b[39m.\u001b[39mpattern,\n\u001b[1;32m   1095\u001b[0m         index\n\u001b[1;32m   1096\u001b[0m     )\n\u001b[1;32m   1098\u001b[0m \u001b[39m# Some patterns require additional logic, such as default. We try to make these the\u001b[39;00m\n\u001b[1;32m   1099\u001b[0m \u001b[39m# last pattern, and append the appropriate flag to that selector which communicates\u001b[39;00m\n\u001b[1;32m   1100\u001b[0m \u001b[39m# to the matcher what additional logic is required.\u001b[39;00m\n\u001b[1;32m   1101\u001b[0m \u001b[39mif\u001b[39;00m is_default:\n",
      "\u001b[0;31mSelectorSyntaxError\u001b[0m: Expected a selector at position 31\n  line 1:\n#main > table:nth-of-type(3) > \n                               ^"
     ]
    }
   ],
   "source": [
    "#ado = soup.select('#main > table:nth-child(6)')\n",
    "ado = soup.select('#main > table:nth-of-type(3) > ')\n",
    "ado"
   ]
  },
  {
   "cell_type": "code",
   "execution_count": 162,
   "metadata": {},
   "outputs": [
    {
     "data": {
      "text/plain": [
       "'Ado'"
      ]
     },
     "execution_count": 162,
     "metadata": {},
     "output_type": "execute_result"
    }
   ],
   "source": [
    "etc_ranks = soup.find_all('td',class_='etc_rank')\n",
    "etc_ranks[6].find_all('a')[0].text"
   ]
  },
  {
   "cell_type": "code",
   "execution_count": null,
   "metadata": {},
   "outputs": [
    {
     "data": {
      "text/plain": [
       "<td bgcolor=\"#CCCC99\" class=\"etc_rank\">　<a href=\"#a\">ア行</a>　　<b>▼カ行</b>　　<a href=\"#sa\">サ行</a>　　<a href=\"#ta\">タ行</a>　　<a href=\"#na\">ナ行</a>　　<a href=\"#ha\">ハ行</a>　　<a href=\"#ma\">マ行</a>　　<a href=\"#ya\">ヤ行</a>　　<a href=\"#ra\">ラ行</a>　　<a href=\"#wa\">ワ行・その他</a></td>"
      ]
     },
     "execution_count": 111,
     "metadata": {},
     "output_type": "execute_result"
    }
   ],
   "source": [
    "etc_ranks = soup.find_all('td',class_='etc_rank')\n",
    "etc_ranks[11]"
   ]
  },
  {
   "cell_type": "code",
   "execution_count": null,
   "metadata": {},
   "outputs": [
    {
     "ename": "IndentationError",
     "evalue": "expected an indented block (1718458174.py, line 2)",
     "output_type": "error",
     "traceback": [
      "\u001b[0;36m  Cell \u001b[0;32mIn [112], line 2\u001b[0;36m\u001b[0m\n\u001b[0;31m    \u001b[0m\n\u001b[0m    ^\u001b[0m\n\u001b[0;31mIndentationError\u001b[0m\u001b[0;31m:\u001b[0m expected an indented block\n"
     ]
    }
   ],
   "source": [
    "for etc_rank in etc_ranks:\n",
    "    print()"
   ]
  },
  {
   "cell_type": "code",
   "execution_count": 160,
   "metadata": {},
   "outputs": [
    {
     "name": "stdout",
     "output_type": "stream",
     "text": [
      "[6, 7, 8, 9, 10, 17, 18, 19, 20, 21, 28, 29, 30, 31, 32, 39, 40, 41, 42, 43, 50, 51, 53, 54, 61, 62, 63, 64, 65, 72, 73, 74, 75, 76, 81, 82, 83, 90, 91, 93, 94, 98, 99]\n"
     ]
    }
   ],
   "source": [
    "def make_list(start):\n",
    "    ls = []\n",
    "    for i in range(7):\n",
    "        ls.extend(list(range(start,start+5)))\n",
    "        start+=11\n",
    "    ls.extend(list(range(81,84)))\n",
    "    ls.extend(list(range(90,95)))\n",
    "    ls.extend(list(range(98,100)))\n",
    "    ls.remove(52)\n",
    "    ls.remove(92)\n",
    "    return ls\n",
    "print(make_list(6))"
   ]
  },
  {
   "cell_type": "code",
   "execution_count": 172,
   "metadata": {},
   "outputs": [
    {
     "name": "stdout",
     "output_type": "stream",
     "text": [
      "['Ado', 'INI', 'ASKA', 'あいみょん', '秋山黄色', '藍井エイル', 'IVE', 'ALI', 'ABEDON AND THE RINGSIDE', '[Alexandros]', 'THE ALFEE', 'アルカラ', '安全地帯', '嵐', '安室奈美恵', '絢香', '荒井由実', 'IDOLY PRIDE', 'ammo', 'iScream', 'ASIAN KUNG-FU GENERATION', 'アンジュルム', 'aiko', 'AMUSE VOICE ACTORS CHANNEL', 'amazarashi', 'Anly', '中孝介', '相川七瀬', '新しい学校のリーダーズ', '4s4ki', '家入レオ', '=LOVE', 'THE YELLOW MONKEY', '今市隆二', '井上陽水', '稲葉浩志', '稲垣潤一', 'ITZY', 'イルカ', '忌野清志郎', '池田綾子', '伊藤由奈', 'いきものがかり', 'いう゛どっと', '今井美樹', '岩田剛典', '五輪真弓', 'YELLOW MAGIC ORCHESTRA', '石川花', '岩崎宏美', 'Uru', '宇多田ヒカル', 'ウルフルズ', '内田真礼', 'UVERworld', '上杉昇', 'ukka', 'ELLEGARDEN', '&TEAM', 'EXILE', 'Aimer', 'NCT DREAM', 'AKB48', 'Every Little Thing', 'EXILE ATSUSHI', 'エレファントカシマシ', 'SKE48', 'ENHYPEN', 'NGT48', \"Ego-Wrappin'\", 'A.B.C-Z', 'NMB48', 'Awich', 'OCTPATH', 'Official髭男dism', 'Original Love', 'OCHA NORMA', '小田和正', '大滝詠一', '陰陽座', '大原櫻子', '押尾コータロー', '大黒摩季', '大橋トリオ', 'all at once', 'Omoinotake', '尾崎豊', '音屋吉右衛門(世良公則×野村義男)', '大橋純子', 'オフコース', '大野雄大', '岡本真夜', 'おニャン子クラブ', '大野雄大(from Da-iCE)', '大貫妙子', '小椋佳', '小原綾斗とフランチャイズオーナー', '神田沙也加', '叶', 'the GazettE', 'Girls2', 'CAPSULE', 'Kanaria', '関ジャニ∞', '角松敏生', 'KAT-TUN', '川崎鷹也', '加山雄三', 'カノン', 'Kalafina', 'GAO', '河島英五', '辛島美登里', 'KANA-BOON', 'King & Prince', 'King Gnu', 'Kis-My-Ft2', '吉川晃司', 'KinKi Kids', 'KANDYTOWN', 'キタニタツヤ', '木村カエラ', 'GANG PARADE', '清竜人', 'KIRITO', '筋肉少女帯', 'キングギドラ', '岸田教団&THE明星ロケッツ', '菊池桃子', '来生たかお', 'きのこ帝国', '桑田佳祐', 'ザ・クロマニヨンズ', 'ClariS', 'GReeeeN', 'Creepy Nuts', 'ChroNoiR', 'krage', 'claquepot', 'globe', '工藤静香', 'グレープ', 'Kroi', 'クレイジーケンバンド', 'GLIM SPANKY', '葛葉', '黒崎真音', 'GLAY', 'クレナズム', 'KUWATA BAND', '結束バンド', '原因は自分にある。', 'ケツメイシ', 'CHEMISTRY', '欅坂46', 'K.K.', 'ケロポンズ', '郷ひろみ', '倖田來未', 'KOH+', '小林愛香', 'go!go!vanillas', 'コブクロ', 'ザ・コレクターズ', '児島未散', 'ゴスペラーズ', 'COMPLEX', '小泉今日子', '佐野元春', '坂本龍一', '沢田研二', 'SawanoHiroyuki[nZk]', '斉藤壮馬', 'サザンオールスターズ', 'Saucy Dog', 'ZARD', '鞘師里保', 'さだまさし', '櫻坂46', 'サカナクション', 'SAKANAMON', '西城秀樹', 'さかいゆう&origami PRODUCTIONS', 'SARD UNDERGROUND', '坂口有望', '佐藤竹善', 'Survive Said The Prophet', 'サンボマスター', 'Sano ibuki', '坂本真綾', 'サニーデイ・サービス', 'ジェジュン', 'Juice=Juice', 'GENERATIONS from EXILE TRIBE', 'JP THE WAVY', 'ジャニーズWEST', 'C&K', 'syrup16g', 'JO1', 'ー真天地開闢集団ージグザグ', '女王蜂', 'シユイ', '椎名林檎', 'JUJU', 'CNBLUE', 'ZIGGY', '白間美瑠', 'G-FREAK FACTORY', 'SHERBETS', 'SIX LOUNGE', 'ジェニーハイ', 'SUGAR BABE', '湘南乃風', 'SixTONES', 'Snow Man', 'すとぷり', 'SUPER BEAVER', '菅田将暉', 'Snow Man vs SixTONES', 'Skoop On Somebody', 'スピッツ', 'SKY-HI', 'スカート', '角野隼斗', 'スターダスト☆レビュー', 'Stray Kids', 'THE SUPER FRUIT', 'SMAP', 'Superfly', '鈴木雅之', 'スガシカオ', 'SUGIZO', 'sumika', '杉山清貴', 'SixTONES vs Snow Man', 'SPARK!!SOUND!!SHOW!!', 'THE SLUT BANKS', 'スキマスイッチ', '鈴木愛理', '杉真理', '逗子三兄弟', 'スガ シカオ', 'SUPER☆GiRLS', 'Stray\\u3000Kids', '杉山清貴&オメガトライブ', '鈴木鈴木', '7ORDER', 'Sexy Zone', 'SEVENTEEN', '聖飢魔II', 'SEKAI NO OWARI', 'SennaRin', '関口和之', 'SE7EN', 'ZORN', 'ソ・イングク', '竹内まりや', '玉置浩二', '高橋優', '高橋真梨子', 'Da-iCE', '高中正義', '高橋幸宏', '谷山浩子', 'Chage', 'ちゃんみな', 'CHiCO with HoneyWorks', '超特急', 'TUBE', 'CHAGE and ASKA', 'チューリップ', 'CHARA', '月詠み', 'TWIGY', '10-FEET', 'T字路s', 'TETORA', 'DISH//', 'TM NETWORK', '手嶌葵', 'TK from 凛として時雨', 'DECO*27', '手越祐也', 'でんぱ組.inc', 'TREASURE', 'DREAMS COME TRUE', 'TWICE', 'TOOBOE', 'ときのそら', 'TOMORROW X TOGETHER', '東京スカパラダイスオーケストラ', 'ザ・ドリフターズ', '東方神起', '堂本剛', 'なにわ男子', '中島みゆき', '中森明菜', 'ナオト・インティライミ', '成田昭次', '南條愛乃', '長渕剛', '中島美嘉', '22/7', '中原めいこ', 'NIGHTMARE', '中西保志', '中川翔子', '中村佳穂', 'RM（BTS）', '夏川椎菜', 'Night Tempo', 'NiziU', '錦戸亮', '日食なつこ', 'Nissy (西島隆弘)', 'NEWS', 'にしな', '西野カナ', 'NEMOPHILA', '猫又おかゆ', '乃木坂46', '≠ME', 'Novel Core', 'nobodyknows+', 'Nornis', '野口五郎', 'back number', '原由子', 'Hakubi', 'BUMP OF CHICKEN', 'ハルカミライ', 'The Birthday', 'PassCode', 'Hump Back', 'Vaundy', '浜崎あゆみ', '浜田省吾', 'BAND-MAID', 'ハンブレッダーズ', 'BUCK-TICK', '羽多野渉', '林部智史', 'パスピエ', '原田知世', 'ハンバートハンバート', 'ハラミちゃん', 'バービーボーイズ', 'クリス・ハート', 'HaKU', 'paris match', 'Hi-STANDARD', '秦基博', '羽生まゐご', 'back\\u3000number', '日向坂46', 'BiSH', \"B'z\", 'BE:FIRST', '氷川きよし', 'BTS(防彈少年團)', '一青窈', 'P丸様。', 'Bialystocks', '羊文学', '平井大', '平沢進', 'BEYOOOOONDS', '広瀬香美', '平原綾香', 'HIROBA', '藤井風', 'FANTASTICS from EXILE TRIBE', '藤井フミヤ', 'FAKE TYPE.', 'フィロソフィーのダンス', 'FLOW', 'BLACKPINK', '藤巻亮太', 'Fear,and Loathing in Las Vegas', 'fripSide', 'THE BLUE HEARTS', '藤原さくら', '藤井隆', '04 Limited Sazabys', 'FictionJunction', 'V6', '藤田麻衣子', '藤澤ノリマサ', '古内東子', '藤川千愛', 'Flower', 'フレデリック', 'BABYMETAL', 'Hey! Say! JUMP', 'BENI', 'ベリーグッドマン', 'BOφWY', '星街すいせい', 'ポルノグラフィティ', '星野源', '松任谷由実', '松下洸平', 'マキシマム ザ ホルモン', 'majiko', 'MAN WITH A MISSION', '松田聖子', 'MY FIRST STORY', 'MindaRyn', 'ザ・マックショウ', 'My Hair is Bad', '槇原敬之', 'MASH', '松山千春', '真心ブラザーズ', '松原みき', '豆柴の大群', 'マカロニえんぴつ', '三宅健', '宮本浩次', 'MISIA', 'Mrs.GREEN APPLE', 'M!LK', 'MIYAVI', 'Mr.Children', '宮川大聖', 'milet', 'Ms.OOJA', '宮野真守', '南佳孝', '宮本佳林', 'Midnight Grand Orchestra', 'millennium parade', 'Mirage Collective', 'MYTH & ROID', '村下孝蔵', 'MAISONdes', 'めいちゃん', 'May J.', \"モーニング娘。'22\", 'Mori Calliope', 'MONKEY MAJIK', '森七菜', 'THE MODS', '山下達郎', '矢沢永吉', 'yama', '安田レイ', '薬師丸ひろ子', '山口百恵', '矢野顕子', '八神純子', 'YUKI', 'UNISON SQUARE GARDEN', '優里', '勇気ちひろ', 'ゆず', '夢みるアドレセンス', '米津玄師', '吉田拓郎', 'YOASOBI', 'ヨルシカ', 'yonawo', '吉田美奈子', 'RADWIMPS/陣内一真', 'THE RAMPAGE from EXILE TRIBE', 'RADWIMPS', 'LOVE PSYCHEDELICO', 'LOUDNESS', 'Lanndo', 'LOVEBITES', \"L'Arc-en-Ciel\", 'LiSA', '緑黄色社会', 'LIL LEAGUE', 'lily', 'Little Glee Monster', 'LIV MOON', 'Little Parade', 'ザ・リーサルウェポンズ', 'Leetspeak monsters', 'Reol', 'ReoNa', 'レキシ', 'レベッカ', 'Royal Scandal', 'ROTH BART BARON', 'LOW IQ 01', '六角精児バンド', 'ROTTENGRAFFTY', 'ONE OK ROCK', 'WATWING', 'WANDS', 'wacci', 'WurtS', '渡辺美里', 'YMO', '(V.A.)', '(オムニバス)', 'いう\"どっと', 'Lanndo']\n"
     ]
    }
   ],
   "source": [
    "art_names = []\n",
    "for i in make_list(6):\n",
    "    for j in etc_ranks[i].find_all('a'):\n",
    "        art_names.append(j.text)\n",
    "print(art_names)"
   ]
  },
  {
   "cell_type": "code",
   "execution_count": 176,
   "metadata": {},
   "outputs": [
    {
     "name": "stdout",
     "output_type": "stream",
     "text": [
      "['Ado', 'INI', 'ASKA', 'あいみょん', '秋山黄色', '藍井エイル', 'IVE', 'ALI', 'ABEDON AND THE RINGSIDE', '[Alexandros]', 'THE ALFEE', 'アルカラ', '安全地帯', '嵐', '安室奈美恵', '絢香', '荒井由実', 'IDOLY PRIDE', 'ammo', 'iScream', 'ASIAN KUNG-FU GENERATION', 'アンジュルム', 'aiko', 'AMUSE VOICE ACTORS CHANNEL', 'amazarashi', 'Anly', '中孝介', '相川七瀬', '新しい学校のリーダーズ', '4s4ki', '家入レオ', '=LOVE', 'THE YELLOW MONKEY', '今市隆二', '井上陽水', '稲葉浩志', '稲垣潤一', 'ITZY', 'イルカ', '忌野清志郎', '池田綾子', '伊藤由奈', 'いきものがかり', 'いう゛どっと', '今井美樹', '岩田剛典', '五輪真弓', 'YELLOW MAGIC ORCHESTRA', '石川花', '岩崎宏美', 'Uru', '宇多田ヒカル', 'ウルフルズ', '内田真礼', 'UVERworld', '上杉昇', 'ukka', 'ELLEGARDEN', '&TEAM', 'EXILE', 'Aimer', 'NCT DREAM', 'AKB48', 'Every Little Thing', 'EXILE ATSUSHI', 'エレファントカシマシ', 'SKE48', 'ENHYPEN', 'NGT48', \"Ego-Wrappin'\", 'A.B.C-Z', 'NMB48', 'Awich', 'OCTPATH', 'Official髭男dism', 'Original Love', 'OCHA NORMA', '小田和正', '大滝詠一', '陰陽座', '大原櫻子', '押尾コータロー', '大黒摩季', '大橋トリオ', 'all at once', 'Omoinotake', '尾崎豊', '音屋吉右衛門(世良公則×野村義男)', '大橋純子', 'オフコース', '大野雄大', '岡本真夜', 'おニャン子クラブ', '大野雄大(from Da-iCE)', '大貫妙子', '小椋佳', '小原綾斗とフランチャイズオーナー', '神田沙也加', '叶', 'the GazettE', 'Girls2', 'CAPSULE', 'Kanaria', '関ジャニ∞', '角松敏生', 'KAT-TUN', '川崎鷹也', '加山雄三', 'カノン', 'Kalafina', 'GAO', '河島英五', '辛島美登里', 'KANA-BOON', 'King & Prince', 'King Gnu', 'Kis-My-Ft2', '吉川晃司', 'KinKi Kids', 'KANDYTOWN', 'キタニタツヤ', '木村カエラ', 'GANG PARADE', '清竜人', 'KIRITO', '筋肉少女帯', 'キングギドラ', '岸田教団&THE明星ロケッツ', '菊池桃子', '来生たかお', 'きのこ帝国', '桑田佳祐', 'ザ・クロマニヨンズ', 'ClariS', 'GReeeeN', 'Creepy Nuts', 'ChroNoiR', 'krage', 'claquepot', 'globe', '工藤静香', 'グレープ', 'Kroi', 'クレイジーケンバンド', 'GLIM SPANKY', '葛葉', '黒崎真音', 'GLAY', 'クレナズム', 'KUWATA BAND', '結束バンド', '原因は自分にある。', 'ケツメイシ', 'CHEMISTRY', '欅坂46', 'K.K.', 'ケロポンズ', '郷ひろみ', '倖田來未', 'KOH+', '小林愛香', 'go!go!vanillas', 'コブクロ', 'ザ・コレクターズ', '児島未散', 'ゴスペラーズ', 'COMPLEX', '小泉今日子', '佐野元春', '坂本龍一', '沢田研二', 'SawanoHiroyuki[nZk]', '斉藤壮馬', 'サザンオールスターズ', 'Saucy Dog', 'ZARD', '鞘師里保', 'さだまさし', '櫻坂46', 'サカナクション', 'SAKANAMON', '西城秀樹', 'さかいゆう&origami PRODUCTIONS', 'SARD UNDERGROUND', '坂口有望', '佐藤竹善', 'Survive Said The Prophet', 'サンボマスター', 'Sano ibuki', '坂本真綾', 'サニーデイ・サービス', 'ジェジュン', 'Juice=Juice', 'GENERATIONS from EXILE TRIBE', 'JP THE WAVY', 'ジャニーズWEST', 'C&K', 'syrup16g', 'JO1', 'ー真天地開闢集団ージグザグ', '女王蜂', 'シユイ', '椎名林檎', 'JUJU', 'CNBLUE', 'ZIGGY', '白間美瑠', 'G-FREAK FACTORY', 'SHERBETS', 'SIX LOUNGE', 'ジェニーハイ', 'SUGAR BABE', '湘南乃風', 'SixTONES', 'Snow Man', 'すとぷり', 'SUPER BEAVER', '菅田将暉', 'Snow Man vs SixTONES', 'Skoop On Somebody', 'スピッツ', 'SKY-HI', 'スカート', '角野隼斗', 'スターダスト☆レビュー', 'Stray Kids', 'THE SUPER FRUIT', 'SMAP', 'Superfly', '鈴木雅之', 'スガシカオ', 'SUGIZO', 'sumika', '杉山清貴', 'SixTONES vs Snow Man', 'SPARK!!SOUND!!SHOW!!', 'THE SLUT BANKS', 'スキマスイッチ', '鈴木愛理', '杉真理', '逗子三兄弟', 'スガ シカオ', 'SUPER☆GiRLS', 'Stray\\u3000Kids', '杉山清貴&オメガトライブ', '鈴木鈴木', '7ORDER', 'Sexy Zone', 'SEVENTEEN', '聖飢魔II', 'SEKAI NO OWARI', 'SennaRin', '関口和之', 'SE7EN', 'ZORN', 'ソ・イングク', '竹内まりや', '玉置浩二', '高橋優', '高橋真梨子', 'Da-iCE', '高中正義', '高橋幸宏', '谷山浩子', 'Chage', 'ちゃんみな', 'CHiCO with HoneyWorks', '超特急', 'TUBE', 'CHAGE and ASKA', 'チューリップ', 'CHARA', '月詠み', 'TWIGY', '10-FEET', 'T字路s', 'TETORA', 'DISH//', 'TM NETWORK', '手嶌葵', 'TK from 凛として時雨', 'DECO*27', '手越祐也', 'でんぱ組.inc', 'TREASURE', 'DREAMS COME TRUE', 'TWICE', 'TOOBOE', 'ときのそら', 'TOMORROW X TOGETHER', '東京スカパラダイスオーケストラ', 'ザ・ドリフターズ', '東方神起', '堂本剛', 'なにわ男子', '中島みゆき', '中森明菜', 'ナオト・インティライミ', '成田昭次', '南條愛乃', '長渕剛', '中島美嘉', '22/7', '中原めいこ', 'NIGHTMARE', '中西保志', '中川翔子', '中村佳穂', 'RM（BTS）', '夏川椎菜', 'Night Tempo', 'NiziU', '錦戸亮', '日食なつこ', 'Nissy (西島隆弘)', 'NEWS', 'にしな', '西野カナ', 'NEMOPHILA', '猫又おかゆ', '乃木坂46', '≠ME', 'Novel Core', 'nobodyknows+', 'Nornis', '野口五郎', 'back number', '原由子', 'Hakubi', 'BUMP OF CHICKEN', 'ハルカミライ', 'The Birthday', 'PassCode', 'Hump Back', 'Vaundy', '浜崎あゆみ', '浜田省吾', 'BAND-MAID', 'ハンブレッダーズ', 'BUCK-TICK', '羽多野渉', '林部智史', 'パスピエ', '原田知世', 'ハンバートハンバート', 'ハラミちゃん', 'バービーボーイズ', 'クリス・ハート', 'HaKU', 'paris match', 'Hi-STANDARD', '秦基博', '羽生まゐご', 'back\\u3000number', '日向坂46', 'BiSH', \"B'z\", 'BE:FIRST', '氷川きよし', 'BTS(防彈少年團)', '一青窈', 'P丸様。', 'Bialystocks', '羊文学', '平井大', '平沢進', 'BEYOOOOONDS', '広瀬香美', '平原綾香', 'HIROBA', '藤井風', 'FANTASTICS from EXILE TRIBE', '藤井フミヤ', 'FAKE TYPE.', 'フィロソフィーのダンス', 'FLOW', 'BLACKPINK', '藤巻亮太', 'Fear,and Loathing in Las Vegas', 'fripSide', 'THE BLUE HEARTS', '藤原さくら', '藤井隆', '04 Limited Sazabys', 'FictionJunction', 'V6', '藤田麻衣子', '藤澤ノリマサ', '古内東子', '藤川千愛', 'Flower', 'フレデリック', 'BABYMETAL', 'Hey! Say! JUMP', 'BENI', 'ベリーグッドマン', 'BOφWY', '星街すいせい', 'ポルノグラフィティ', '星野源', '松任谷由実', '松下洸平', 'マキシマム ザ ホルモン', 'majiko', 'MAN WITH A MISSION', '松田聖子', 'MY FIRST STORY', 'MindaRyn', 'ザ・マックショウ', 'My Hair is Bad', '槇原敬之', 'MASH', '松山千春', '真心ブラザーズ', '松原みき', '豆柴の大群', 'マカロニえんぴつ', '三宅健', '宮本浩次', 'MISIA', 'Mrs.GREEN APPLE', 'M!LK', 'MIYAVI', 'Mr.Children', '宮川大聖', 'milet', 'Ms.OOJA', '宮野真守', '南佳孝', '宮本佳林', 'Midnight Grand Orchestra', 'millennium parade', 'Mirage Collective', 'MYTH & ROID', '村下孝蔵', 'MAISONdes', 'めいちゃん', 'May J.', \"モーニング娘。'22\", 'Mori Calliope', 'MONKEY MAJIK', '森七菜', 'THE MODS', '山下達郎', '矢沢永吉', 'yama', '安田レイ', '薬師丸ひろ子', '山口百恵', '矢野顕子', '八神純子', 'YUKI', 'UNISON SQUARE GARDEN', '優里', '勇気ちひろ', 'ゆず', '夢みるアドレセンス', '米津玄師', '吉田拓郎', 'YOASOBI', 'ヨルシカ', 'yonawo', '吉田美奈子', 'RADWIMPS/陣内一真', 'THE RAMPAGE from EXILE TRIBE', 'RADWIMPS', 'LOVE PSYCHEDELICO', 'LOUDNESS', 'Lanndo', 'LOVEBITES', \"L'Arc-en-Ciel\", 'LiSA', '緑黄色社会', 'LIL LEAGUE', 'lily', 'Little Glee Monster', 'LIV MOON', 'Little Parade', 'ザ・リーサルウェポンズ', 'Leetspeak monsters', 'Reol', 'ReoNa', 'レキシ', 'レベッカ', 'Royal Scandal', 'ROTH BART BARON', 'LOW IQ 01', '六角精児バンド', 'ROTTENGRAFFTY', 'ONE OK ROCK', 'WATWING', 'WANDS', 'wacci', 'WurtS', '渡辺美里', 'YMO', '(V.A.)', '(オムニバス)', 'いう\"どっと', 'Lanndo']\n"
     ]
    }
   ],
   "source": [
    "import get_artist_names as gan\n",
    "\n",
    "print(gan.get_all_artist_names())\n",
    "\n"
   ]
  },
  {
   "cell_type": "code",
   "execution_count": 3,
   "metadata": {},
   "outputs": [
    {
     "ename": "NameError",
     "evalue": "name '__file__' is not defined",
     "output_type": "error",
     "traceback": [
      "\u001b[0;31m---------------------------------------------------------------------------\u001b[0m",
      "\u001b[0;31mNameError\u001b[0m                                 Traceback (most recent call last)",
      "Cell \u001b[0;32mIn [3], line 2\u001b[0m\n\u001b[1;32m      1\u001b[0m \u001b[39mimport\u001b[39;00m \u001b[39mos\u001b[39;00m\n\u001b[0;32m----> 2\u001b[0m \u001b[39mprint\u001b[39m(\u001b[39m'\u001b[39m\u001b[39mdirname:     \u001b[39m\u001b[39m'\u001b[39m, os\u001b[39m.\u001b[39mpath\u001b[39m.\u001b[39mdirname(\u001b[39m__file__\u001b[39;49m))\n",
      "\u001b[0;31mNameError\u001b[0m: name '__file__' is not defined"
     ]
    }
   ],
   "source": [
    "import os\n",
    "print('dirname:     ', os.path.dirname(__file__))"
   ]
  }
 ],
 "metadata": {
  "kernelspec": {
   "display_name": ".venv",
   "language": "python",
   "name": "python3"
  },
  "language_info": {
   "codemirror_mode": {
    "name": "ipython",
    "version": 3
   },
   "file_extension": ".py",
   "mimetype": "text/x-python",
   "name": "python",
   "nbconvert_exporter": "python",
   "pygments_lexer": "ipython3",
   "version": "3.9.0 (default, Jan 29 2021, 07:04:53) \n[Clang 12.0.0 (clang-1200.0.32.28)]"
  },
  "orig_nbformat": 4,
  "vscode": {
   "interpreter": {
    "hash": "393854f0349f2826b19d024598bde2c72df2488712d9e2e1c857975c3822bf64"
   }
  }
 },
 "nbformat": 4,
 "nbformat_minor": 2
}
